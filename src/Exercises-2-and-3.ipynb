{
 "cells": [
  {
   "cell_type": "markdown",
   "metadata": {},
   "source": [
    "# Exercises 2 and 3\n",
    "As booth exercises deal with discrete rectangles, they share the same class.\n",
    "\n",
    "## Test if two rectangles intersect"
   ]
  },
  {
   "cell_type": "code",
   "execution_count": 3,
   "metadata": {},
   "outputs": [],
   "source": [
    "class rectangle:\n",
    "    \n",
    "    def __init__(self, edge1, edge2) -> None:\n",
    "        # assign to first_edge the edge with the smaller 'x' component\n",
    "        self.edge1  = edge1 if edge1[0] < edge2[0] else edge2\n",
    "        self.edge2  = edge2 if edge1[0] < edge2[0] else edge1\n",
    "    \n",
    "    def intersects(self, other_rec):\n",
    "        #If the greater 'left edge' (edge1) between the two rectangles is smaller than \n",
    "        #the smallest 'right edge' (edge2), the rectangles intersect in the 'X' axxis.\n",
    "        #In other words, if edge1 or edge2 of one rectangle is between \n",
    "        #the edges 1 and 2 of the other, they must itercept\n",
    "        greater_edge1_X = max(self.edge1[0], other_rec.edge1[0])\n",
    "        smaller_edge2_X = min(self.edge2[0], other_rec.edge2[0])\n",
    "        if(greater_edge1_X <= smaller_edge2_X):\n",
    "            #If the previous is true, we can check the same for the Y axxis.\n",
    "            #But as they are not sorted, we have to check for the min and the max ones.\n",
    "            greater_edge1_Y = max( min(self.edge1[1], self.edge2[1]), min(other_rec.edge1[1],other_rec.edge2[1]))\n",
    "            smaller_edge2_Y = min( max(self.edge1[1], self.edge2[1]), max(other_rec.edge1[1],other_rec.edge2[1]))\n",
    "            if(greater_edge1_Y <= smaller_edge2_Y):\n",
    "                return True\n",
    "        return False\n",
    "\n",
    "    def areaOfIntersection(self, other_rec):\n",
    "        if not self.intersects(other_rec):\n",
    "            return 0\n",
    "        greater_edge1_X = max(self.edge1[0], other_rec.edge1[0])\n",
    "        smaller_edge2_X = min(self.edge2[0], other_rec.edge2[0])\n",
    "        size_X = abs(greater_edge1_X - smaller_edge2_X)+1\n",
    "        greater_edge1_Y = max( min(self.edge1[1], self.edge2[1]), min(other_rec.edge1[1],other_rec.edge2[1]))\n",
    "        smaller_edge2_Y = min( max(self.edge1[1], self.edge2[1]), max(other_rec.edge1[1],other_rec.edge2[1]))\n",
    "        size_Y = abs(greater_edge1_Y - smaller_edge2_Y)+1\n",
    "        return size_X * size_Y\n"
   ]
  },
  {
   "cell_type": "markdown",
   "metadata": {},
   "source": []
  },
  {
   "cell_type": "code",
   "execution_count": 5,
   "metadata": {},
   "outputs": [
    {
     "name": "stdout",
     "output_type": "stream",
     "text": [
      "3\n"
     ]
    }
   ],
   "source": [
    "a = rectangle((3,5),(11,11))\n",
    "b = rectangle((7,2),(13,7))\n",
    "\n",
    "a.intersects(b)\n",
    "print(a.areaOfIntersection(b))"
   ]
  }
 ],
 "metadata": {
  "interpreter": {
   "hash": "0a94ad4973d52bec6ce1243c28fe3b2c22635921be92d6a0f6f5a18b0386fae2"
  },
  "kernelspec": {
   "display_name": "Python 3.8.2 32-bit",
   "language": "python",
   "name": "python3"
  },
  "language_info": {
   "codemirror_mode": {
    "name": "ipython",
    "version": 3
   },
   "file_extension": ".py",
   "mimetype": "text/x-python",
   "name": "python",
   "nbconvert_exporter": "python",
   "pygments_lexer": "ipython3",
   "version": "3.8.2"
  },
  "orig_nbformat": 4
 },
 "nbformat": 4,
 "nbformat_minor": 2
}

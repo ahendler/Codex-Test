{
 "cells": [
  {
   "cell_type": "markdown",
   "metadata": {},
   "source": [
    "# Exercise 7:\n",
    "## Entity Relationship Diagram - Simple Order Manager\n",
    "\n",
    "- ## Entiry Relationship:   \n",
    "    ![ER](assets/ER.png)\n",
    "- ## Extras:\n",
    "    - ### SQL querie:  \n",
    "    Simple Table creation and querie example ignoring the foreign keys for simplicity    \n",
    "    ![sql-querie](assets/sql.png)"
   ]
  }
 ],
 "metadata": {
  "language_info": {
   "name": "python"
  },
  "orig_nbformat": 4
 },
 "nbformat": 4,
 "nbformat_minor": 2
}

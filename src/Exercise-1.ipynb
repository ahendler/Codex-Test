{
 "cells": [
  {
   "cell_type": "markdown",
   "metadata": {},
   "source": [
    "# Exercise 1\n",
    "## Validate CNPJ format and check digits"
   ]
  },
  {
   "cell_type": "code",
   "execution_count": 1,
   "metadata": {},
   "outputs": [],
   "source": [
    "import logging\n",
    "import unittest"
   ]
  },
  {
   "cell_type": "code",
   "execution_count": 2,
   "metadata": {},
   "outputs": [],
   "source": [
    "def validate_CNPJ(cnpj):\n",
    "\n",
    "    logging.basicConfig(level=logging.error)\n",
    "\n",
    "    for char_to_remove in './-':                        #remove unwanted chars from the number\n",
    "        cnpj = cnpj.replace(char_to_remove,'')\n",
    "\n",
    "    if(not cnpj.isnumeric()):\n",
    "        logging.error(\"CNPJ is not numeric\")\n",
    "        return False\n",
    "\n",
    "    if(len(cnpj)!=14):\n",
    "        logging.error(\"CNPJ size is not 14\")\n",
    "        return False\n",
    "\n",
    "    cnpj_numbers    = [int(char) for char in cnpj[:12]] # get the data digits\n",
    "    cnpj_validation = [int(char) for char in cnpj[12:]] # get the validation digits\n",
    "    weights         = [5,4,3,2,9,8,7,6,5,4,3,2]         # list with the multiplication weights for the first validation\n",
    "    checksum        = 0 \n",
    "    \n",
    "    for num, weight in zip(cnpj_numbers,weights):       # performs a dot product\n",
    "        checksum += num * weight\n",
    "\n",
    "    firstdigit = 11 - (checksum % 11)\n",
    "    if(checksum % 11 == 2):                             # check the case where the validation digit is 0\n",
    "        firstdigit = 0\n",
    "    if(firstdigit != cnpj_validation[0]):\n",
    "        logging.error(\"The first validation digit is wrong, should be \" + str(firstdigit))\n",
    "        return False\n",
    "\n",
    "    weights.insert(0,6)                                 # add the extra weight for the second digit validation\n",
    "    cnpj_numbers.append(cnpj_validation[0])             # add the first validation digit to the next dot product\n",
    "    checksum = 0\n",
    "\n",
    "    for num, weight in zip(cnpj_numbers,weights):\n",
    "        checksum += num * weight\n",
    "\n",
    "    seconddigit = 11 - (checksum % 11)\n",
    "    if(checksum % 11 == 2):\n",
    "        seconddigit = 0\n",
    "    if(seconddigit != cnpj_validation[1]):\n",
    "        logging.error(\"The first validation digit is wrong, should be \" + str(seconddigit))\n",
    "        return False\n",
    "\n",
    "    return True"
   ]
  }
 ],
 "metadata": {
  "interpreter": {
   "hash": "0a94ad4973d52bec6ce1243c28fe3b2c22635921be92d6a0f6f5a18b0386fae2"
  },
  "kernelspec": {
   "display_name": "Python 3.8.2 32-bit",
   "language": "python",
   "name": "python3"
  },
  "language_info": {
   "codemirror_mode": {
    "name": "ipython",
    "version": 3
   },
   "file_extension": ".py",
   "mimetype": "text/x-python",
   "name": "python",
   "nbconvert_exporter": "python",
   "pygments_lexer": "ipython3",
   "version": "3.8.2"
  },
  "orig_nbformat": 4
 },
 "nbformat": 4,
 "nbformat_minor": 2
}

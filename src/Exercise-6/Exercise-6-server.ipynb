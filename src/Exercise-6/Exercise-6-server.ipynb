{
 "cells": [
  {
   "cell_type": "markdown",
   "metadata": {},
   "source": [
    "# Exercise 6:\n",
    "## Rest Server - World Clock - Server\n",
    "\n",
    "As this exercise has two parallel parts, it is split in two different notebooks:   \n",
    " - The server one (this one), that should be executed first\n",
    " - The client one, that should be executed after the server is alive"
   ]
  },
  {
   "cell_type": "code",
   "execution_count": 1,
   "metadata": {},
   "outputs": [],
   "source": [
    "from flask import Flask, json\n",
    "from datetime import datetime"
   ]
  },
  {
   "cell_type": "code",
   "execution_count": 2,
   "metadata": {},
   "outputs": [
    {
     "name": "stdout",
     "output_type": "stream",
     "text": [
      " * Serving Flask app '__main__' (lazy loading)\n",
      " * Environment: production\n",
      "\u001b[31m   WARNING: This is a development server. Do not use it in a production deployment.\u001b[0m\n",
      "\u001b[2m   Use a production WSGI server instead.\u001b[0m\n",
      " * Debug mode: off\n"
     ]
    },
    {
     "name": "stderr",
     "output_type": "stream",
     "text": [
      " * Running on http://127.0.0.1:5000/ (Press CTRL+C to quit)\n",
      "127.0.0.1 - - [22/Nov/2021 20:35:20] \"GET /worldclock HTTP/1.1\" 200 -\n",
      "127.0.0.1 - - [22/Nov/2021 20:35:41] \"GET /worldclock HTTP/1.1\" 200 -\n"
     ]
    }
   ],
   "source": [
    "worldclock = {\"currentDateTime\":\"\"}                 # resource itself (refreshed when the server receives a request)\n",
    "\n",
    "api = Flask(__name__)\n",
    "\n",
    "@api.route('/worldclock', methods=['GET'])          # mapping\n",
    "\n",
    "def get_worldclock():\n",
    "    now = str(datetime.now())                       # Asks for the system for it's time\n",
    "    currentDateTime = now[:10]+\"T\"+now[11:16]+\"Z\"   # Formats as desired\n",
    "    worldclock[\"currentDateTime\"] = currentDateTime # Updates the resource\n",
    "\n",
    "    return json.dumps(worldclock)\n",
    "\n",
    "if __name__ == '__main__':\n",
    "    api.run()"
   ]
  }
 ],
 "metadata": {
  "interpreter": {
   "hash": "0a94ad4973d52bec6ce1243c28fe3b2c22635921be92d6a0f6f5a18b0386fae2"
  },
  "kernelspec": {
   "display_name": "Python 3.8.2 32-bit",
   "language": "python",
   "name": "python3"
  },
  "language_info": {
   "codemirror_mode": {
    "name": "ipython",
    "version": 3
   },
   "file_extension": ".py",
   "mimetype": "text/x-python",
   "name": "python",
   "nbconvert_exporter": "python",
   "pygments_lexer": "ipython3",
   "version": "3.8.2"
  },
  "orig_nbformat": 4
 },
 "nbformat": 4,
 "nbformat_minor": 2
}

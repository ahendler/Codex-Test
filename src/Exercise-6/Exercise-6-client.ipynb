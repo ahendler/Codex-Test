{
 "cells": [
  {
   "cell_type": "markdown",
   "metadata": {},
   "source": [
    "# Exercise 6:\n",
    "## Rest Server - World Clock - Client\n",
    "\n",
    "As this exercise has two parallel parts, it is split in two different notebooks:   \n",
    " - The server one, that should be executed first\n",
    " - The client one (this one), that should be executed after the server is alive\n",
    "\n",
    "It's worth to note that this example might not return the local time, after all, it gets the time on the server location and this one is not running locally (if using binder)."
   ]
  },
  {
   "cell_type": "code",
   "execution_count": 3,
   "metadata": {},
   "outputs": [],
   "source": [
    "import requests, json"
   ]
  },
  {
   "cell_type": "code",
   "execution_count": 4,
   "metadata": {},
   "outputs": [
    {
     "name": "stdout",
     "output_type": "stream",
     "text": [
      "{\n",
      "   \"currentDateTime\": \"2021-11-22T20:35Z\"\n",
      "}\n"
     ]
    }
   ],
   "source": [
    "# simple client getting the resource under 'worldclock'\n",
    "url = \"http://localhost:5000/worldclock\"\n",
    "data_json = requests.get(url).json()\n",
    "print(json.dumps(data_json, indent=3))"
   ]
  }
 ],
 "metadata": {
  "interpreter": {
   "hash": "0a94ad4973d52bec6ce1243c28fe3b2c22635921be92d6a0f6f5a18b0386fae2"
  },
  "kernelspec": {
   "display_name": "Python 3.8.2 32-bit",
   "language": "python",
   "name": "python3"
  },
  "language_info": {
   "codemirror_mode": {
    "name": "ipython",
    "version": 3
   },
   "file_extension": ".py",
   "mimetype": "text/x-python",
   "name": "python",
   "nbconvert_exporter": "python",
   "pygments_lexer": "ipython3",
   "version": "3.8.2"
  },
  "orig_nbformat": 4
 },
 "nbformat": 4,
 "nbformat_minor": 2
}

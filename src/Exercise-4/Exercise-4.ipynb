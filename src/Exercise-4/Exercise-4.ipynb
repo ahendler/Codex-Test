{
 "cells": [
  {
   "cell_type": "markdown",
   "metadata": {},
   "source": [
    "# Exercise 4:\n",
    "## Simple Todo List"
   ]
  },
  {
   "cell_type": "code",
   "execution_count": 1,
   "metadata": {},
   "outputs": [],
   "source": [
    "import pandas as pd\n",
    "\n",
    "class ToDoDB:\n",
    "\n",
    "    def __init__(self) -> None:\n",
    "        self.todo = pd.read_csv(\"ToDoDB.csv\")\n",
    "    \n",
    "    def get(self):\n",
    "        print(self.todo)\n",
    "\n",
    "    def add_task(self, title, description=' ', deadline=''):\n",
    "        self.todo = self.todo.append({\"title\": title,\"description\": description, \"deadline\": deadline},ignore_index=True)\n",
    "    \n",
    "    def delete_task(self, index):\n",
    "        try:\n",
    "            self.todo = self.todo.drop(index)\n",
    "        except:\n",
    "            print(\"\\n---Index out of range---\\n\")\n",
    "\n",
    "    def exit_todo(self):\n",
    "        self.todo.to_csv(\"ToDoDB.csv\", index=False)\n",
    "    "
   ]
  },
  {
   "cell_type": "markdown",
   "metadata": {},
   "source": [
    "## Some Tests:\n",
    "To maintain persistance between executions, the exit_todo function must be called at the end. Another alternative would be to call this function inside add_task and delete_task."
   ]
  },
  {
   "cell_type": "code",
   "execution_count": 3,
   "metadata": {},
   "outputs": [
    {
     "name": "stdout",
     "output_type": "stream",
     "text": [
      "               title   description deadline\n",
      "0             Task 1  Eat an apple    20/12\n",
      "1  Submit Codex Test                  25/11\n",
      "\n",
      "---Index out of range---\n",
      "\n",
      "               title description deadline\n",
      "1  Submit Codex Test                25/11\n"
     ]
    }
   ],
   "source": [
    "todo = ToDoDB()\n",
    "\n",
    "todo.add_task(\"Task 1\",\"Eat an apple\",\"20/12\")\n",
    "todo.add_task(\"Submit Codex Test\",' ',\"25/11\")\n",
    "\n",
    "todo.get()\n",
    "todo.delete_task(0)\n",
    "todo.delete_task(100)\n",
    "todo.get()\n",
    "todo.exit_todo()\n"
   ]
  },
  {
   "cell_type": "code",
   "execution_count": 4,
   "metadata": {},
   "outputs": [
    {
     "name": "stdout",
     "output_type": "stream",
     "text": [
      "                 title   description deadline\n",
      "0    Submit Codex Test                  25/11\n",
      "1      Christmas party  Bring snacks    25/12\n",
      "2  Algorithms III Test  Study graphs    06/12\n"
     ]
    }
   ],
   "source": [
    "todo.add_task(\"Christmas party\",'Bring snacks',\"25/12\")\n",
    "todo.add_task(\"Algorithms III Test\",\"Study graphs\",\"06/12\")\n",
    "\n",
    "todo.get()\n",
    "todo.exit_todo()"
   ]
  }
 ],
 "metadata": {
  "interpreter": {
   "hash": "0a94ad4973d52bec6ce1243c28fe3b2c22635921be92d6a0f6f5a18b0386fae2"
  },
  "kernelspec": {
   "display_name": "Python 3.8.2 32-bit",
   "language": "python",
   "name": "python3"
  },
  "language_info": {
   "name": "python",
   "version": "3.8.2"
  },
  "orig_nbformat": 4
 },
 "nbformat": 4,
 "nbformat_minor": 2
}

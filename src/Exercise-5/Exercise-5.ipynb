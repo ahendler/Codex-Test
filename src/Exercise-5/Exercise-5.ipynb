{
 "cells": [
  {
   "cell_type": "markdown",
   "metadata": {},
   "source": [
    "# Exercise 5:\n",
    "## Rest Client - World Clock\n",
    "\n",
    "As this might not be running locally (binder case), the server time zone is probably not be the one expected. Due to that, an aditional function that shows São Paulo's time was added."
   ]
  },
  {
   "cell_type": "code",
   "execution_count": 1,
   "metadata": {},
   "outputs": [],
   "source": [
    "import requests\n",
    "from datetime import datetime\n",
    "import pytz"
   ]
  },
  {
   "cell_type": "code",
   "execution_count": 2,
   "metadata": {},
   "outputs": [],
   "source": [
    "def get_utc():\n",
    "    utc = requests.get(\"http://worldclockapi.com/api/json/utc/now\")\n",
    "    utc_date_time = utc.json()[\"currentDateTime\"]                       #grabs the specific resource\n",
    "    utc_date = utc_date_time[:10]\n",
    "    utc_time = utc_date_time[11:16]\n",
    "    print(f\"UTC Date: {utc_date}\\nUTC Time: {utc_time}\")\n",
    "\n",
    "def get_local():\n",
    "    #assumes GMT-3\n",
    "    utc = requests.get(\"http://worldclockapi.com/api/json/gmt/now\")\n",
    "    current = utc.json()[\"currentDateTime\"]\n",
    "    local = datetime.strptime(current,\"%Y-%m-%dT%H:%M+00:00\").astimezone()  #converts the string to a datetime object\n",
    "                                                                            #appending the local utc offset where \"+00:00\" is\n",
    "    local_corrected = local +  local.utcoffset()                            #adds the offset appended to the real tempo\n",
    "    local_date = local_corrected.strftime(\"%Y-%m-%d\")                       #converts the date part back to a string\n",
    "    local_time = local_corrected.strftime(\"%H:%M\")                          #converts the time part back to a string\n",
    "    print(f\"Local Date: {local_date}\\nLocal Time: {local_time}\")\n",
    "\n",
    "def get_sao_paulo():\n",
    "    #same as get_local but enforcing Sao Paulo's timezone\n",
    "    utc = requests.get(\"http://worldclockapi.com/api/json/gmt/now\")\n",
    "    current = utc.json()[\"currentDateTime\"]\n",
    "    sao_paulo = datetime.strptime(current,\"%Y-%m-%dT%H:%M+00:00\").astimezone(pytz.timezone('America/Sao_Paulo')) #gets Sao Paulo timezone\n",
    "\n",
    "    sao_paulo_corrected = sao_paulo +  sao_paulo.utcoffset()                 #adds the offset appended to the real time\n",
    "    sao_paulo_date = sao_paulo_corrected.strftime(\"%Y-%m-%d\")                #converts the date part back to a string\n",
    "    sao_paulo_time = sao_paulo_corrected.strftime(\"%H:%M\")                   #converts the time part back to a string\n",
    "    print(f\"Sao Paulo Date: {sao_paulo_date}\\nSao Paulo Time: {sao_paulo_time}\")"
   ]
  },
  {
   "cell_type": "code",
   "execution_count": 3,
   "metadata": {},
   "outputs": [
    {
     "name": "stdout",
     "output_type": "stream",
     "text": [
      "UTC Date: 2021-11-23\n",
      "UTC Time: 19:17\n",
      "Local Date: 2021-11-23\n",
      "Local Time: 16:17\n",
      "Sao Paulo Date: 2021-11-23\n",
      "Sao Paulo Time: 16:17\n"
     ]
    }
   ],
   "source": [
    "get_utc()\n",
    "get_local()\n",
    "get_sao_paulo()"
   ]
  }
 ],
 "metadata": {
  "interpreter": {
   "hash": "0a94ad4973d52bec6ce1243c28fe3b2c22635921be92d6a0f6f5a18b0386fae2"
  },
  "kernelspec": {
   "display_name": "Python 3.8.2 32-bit",
   "language": "python",
   "name": "python3"
  },
  "language_info": {
   "codemirror_mode": {
    "name": "ipython",
    "version": 3
   },
   "file_extension": ".py",
   "mimetype": "text/x-python",
   "name": "python",
   "nbconvert_exporter": "python",
   "pygments_lexer": "ipython3",
   "version": "3.8.2"
  },
  "orig_nbformat": 4
 },
 "nbformat": 4,
 "nbformat_minor": 2
}

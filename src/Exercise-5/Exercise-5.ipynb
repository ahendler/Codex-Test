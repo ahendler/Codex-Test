{
 "cells": [
  {
   "cell_type": "markdown",
   "metadata": {},
   "source": [
    "# Exercise 5:\n",
    "## Rest Client - World Clock"
   ]
  },
  {
   "cell_type": "code",
   "execution_count": 3,
   "metadata": {},
   "outputs": [],
   "source": [
    "import requests"
   ]
  },
  {
   "cell_type": "code",
   "execution_count": 16,
   "metadata": {},
   "outputs": [],
   "source": [
    "def get_utc():\n",
    "    utc = requests.get(\"http://worldclockapi.com/api/json/utc/now\")\n",
    "    utc_date_time = utc.json()[\"currentDateTime\"]                       #grabs the specific resource\n",
    "    utc_date = utc_date_time[:10]\n",
    "    utc_time = utc_date_time[11:16]\n",
    "    print(f\"UTC Date: {utc_date}\\nUTC Time: {utc_time}\")\n",
    "\n",
    "def get_local():\n",
    "    #assumes GMT-3\n",
    "    local = requests.get(\"http://worldclockapi.com/api/json/gmt/now\")\n",
    "    local_date_time = local.json()[\"currentDateTime\"]\n",
    "    local_date = local_date_time[:10]\n",
    "    local_hours = int(local_date_time[11:13])\n",
    "    #As the API does not seem to support gmt-3/utc-3, some corrections might be needed:\n",
    "    if(local_hours-3<0):\n",
    "        if(local_date[8:10]==\"01\"):                                     #if it is day 1\n",
    "            if(local_date[5:7]==\"01\"):                                  #if it is january\n",
    "                local_date = str(int(local_date[0:4])-1)+\"-12-31\"\n",
    "            elif(local_date[5:7]==\"03\"):                                #if it is march\n",
    "                if(int(local_date[0:4]) % 4):                           #if it is a leap year\n",
    "                    local_date = local_date[0:4]+'-02-29'\n",
    "                else:\n",
    "                   local_date = local_date[0:4]+'-02-28'\n",
    "            else:\n",
    "                if(int(local_date[5:7]) % 2):                           #if the previous month has 30 days\n",
    "                    local_date = local_date[0:4]+'-'+str(int(local_date[5:7])-1)+'-30'\n",
    "                else:                                                   #if the previous month has 31 days\n",
    "                    local_date = local_date[0:4]+'-'+str(int(local_date[5:7])-1)+'-31'\n",
    "    \n",
    "    local_hours = (local_hours + 21)%24\n",
    "    local_time  = str(local_hours)+local_date_time[13:16]\n",
    "    print(f\"Local Date: {local_date}\\nLocal Time: {local_time}\")\n"
   ]
  },
  {
   "cell_type": "code",
   "execution_count": 15,
   "metadata": {},
   "outputs": [
    {
     "name": "stdout",
     "output_type": "stream",
     "text": [
      "UTC Date: 2021-11-22\n",
      "UTC Time: 22:29\n",
      "Local Date: 2021-11-22\n",
      "Local Time: 19:29\n"
     ]
    }
   ],
   "source": [
    "get_utc()\n",
    "get_local()"
   ]
  }
 ],
 "metadata": {
  "interpreter": {
   "hash": "0a94ad4973d52bec6ce1243c28fe3b2c22635921be92d6a0f6f5a18b0386fae2"
  },
  "kernelspec": {
   "display_name": "Python 3.8.2 32-bit",
   "language": "python",
   "name": "python3"
  },
  "language_info": {
   "codemirror_mode": {
    "name": "ipython",
    "version": 3
   },
   "file_extension": ".py",
   "mimetype": "text/x-python",
   "name": "python",
   "nbconvert_exporter": "python",
   "pygments_lexer": "ipython3",
   "version": "3.8.2"
  },
  "orig_nbformat": 4
 },
 "nbformat": 4,
 "nbformat_minor": 2
}
